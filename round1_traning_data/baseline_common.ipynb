{
 "cells": [
  {
   "cell_type": "code",
   "execution_count": 4,
   "id": "9790faf9-b072-4ffe-a99b-d7b5c2a4d701",
   "metadata": {},
   "outputs": [],
   "source": [
    "import json\n",
    "test=[json.loads(k) for k in open(\"testa.json\",\"r\",encoding=\"utf8\").readlines()]\n",
    "train=[json.loads(k) for k in open(\"train.json\",\"r\",encoding=\"utf8\").readlines()]\n",
    "submit_example=[json.loads(k) for k in open(\"submit_example.txt\",\"r\",encoding=\"utf8\").readlines()]"
   ]
  },
  {
   "cell_type": "code",
   "execution_count": 2,
   "id": "6bca94ac-2fdd-46af-9592-71c193cd2933",
   "metadata": {},
   "outputs": [
    {
     "data": {
      "text/plain": [
       "[{'summarizations': [{'id': '10631_1',\n",
       "    'event-summarization': '当地时间26日凌晨3时19分，卡塔尼亚省发生4.8级地震，震中位于维亚格兰德市北部2公里的埃特纳火山山坡，震源深度1公里。造成28名居民轻伤。'},\n",
       "   {'id': '10631_2',\n",
       "    'event-summarization': '凌晨1时9分，埃特纳火山山坡发生了3.4级地震，震中位于阿奇桑坦托尼奥市北部4公里。'}]},\n",
       " {'summarizations': [{'id': '13815_1',\n",
       "    'event-summarization': '3月24日下午，邯郸市“阳光学校中华校区”的男老师对一位六年级男生扇耳光。'},\n",
       "   {'id': '13815_2',\n",
       "    'event-summarization': '因学生王某经法医鉴定已构成轻微伤，3月25日，何某被邯郸市丛台区联东派出所行政拘留。'},\n",
       "   {'id': '13815_3', 'event-summarization': '王先生因儿子被何老师打了而报警。'},\n",
       "   {'id': '13815_4', 'event-summarization': '3月25日何某被罚款1000元。'}]}]"
      ]
     },
     "execution_count": 2,
     "metadata": {},
     "output_type": "execute_result"
    }
   ],
   "source": [
    "submit_example"
   ]
  },
  {
   "cell_type": "code",
   "execution_count": 5,
   "id": "e35e4a58-37d5-4f84-bd5e-53d19c77ea2a",
   "metadata": {},
   "outputs": [
    {
     "data": {
      "text/plain": [
       "{'new-ID': '10290',\n",
       " 'doc': '成都市原市长助理门生涉嫌受贿案侦查终结，移送审查起诉_一号专案_澎湃新闻-ThePape。\\n\\n中新网成都1月5日电，5日，成都市人民检察院官方网站公布了近段时间成都市检察机关查处的4起职务犯罪案件信息。其中，原成都市市长助理、秘书长门生（副厅级）涉嫌受贿一案，由成都市人民检察院侦查终结，移送审查起诉。门生，男，汉族，1959年3月生，四川内江人。2009年门生因抗震救灾有功等原因，兼任成都市市长助理。2013年2月，门生转任成都市市长助理、市政府秘书长，并兼市政府办公厅党组书记，市委党校（行政学院）第一副校（院）长等职迄今。2015年06月10日，成都市纪委发布消息称，经成都市委同意，成都市纪委对成都市市长助理、市政府秘书长门生涉嫌严重违纪违法问题进行立案调查。门生是2014年8月以来，成都继陈争鸣、刘俊林及周鸿德之后落马的第4位市长助理。2015年9月17日，成都市人民检察院依法决定对成都市政府原市长助理、秘书长门生（副厅级）受贿立案侦查。2015年9月25日，经四川省人民检察院决定，依法对门生予以逮捕。此外，成都市检察院还公布了成都武侯区投资促进局副局长岳文婷、成都锦江区三圣街道办事处办公室原主任胡杨、成都市公积金管理中心原党委书记胡旭光的职务犯罪案件信息。',\n",
       " 'events': [{'id': '10290_1',\n",
       "   'content': '门生，2015年9月17日，成都市人民检察院依法决定对成都市政府原市长助理、秘书长门生（副厅级）受贿立案侦查。',\n",
       "   'spans': [{'start': 151, 'end': 154}, {'start': 375, 'end': 427}]},\n",
       "  {'id': '10290_2',\n",
       "   'content': '5日，门生，2015年9月17日，成都市人民检察院依法决定对成都市政府原市长助理、秘书长门生（副厅级）受贿立案侦查。2015年9月25日，经四川省人民检察院决定，依法对门生予以逮捕。',\n",
       "   'spans': [{'start': 58, 'end': 61},\n",
       "    {'start': 151, 'end': 154},\n",
       "    {'start': 375, 'end': 460}]}],\n",
       " 'summarizations': [{'id': '10290_1',\n",
       "   'event-summarization': '2015年9月17日，成都市人民检察院对门生受贿立案侦查'},\n",
       "  {'id': '10290_2', 'event-summarization': '2015年9月25日，门生因受贿被四川省人民检察院决定逮捕'}]}"
      ]
     },
     "execution_count": 5,
     "metadata": {},
     "output_type": "execute_result"
    }
   ],
   "source": [
    "train[0]"
   ]
  },
  {
   "cell_type": "code",
   "execution_count": 6,
   "id": "9072ec90-2834-4f6a-91f9-65323a6dbc1e",
   "metadata": {},
   "outputs": [
    {
     "data": {
      "text/plain": [
       "{'summarizations': [{'id': '10631_1',\n",
       "   'event-summarization': '当地时间26日凌晨3时19分，卡塔尼亚省发生4.8级地震，震中位于维亚格兰德市北部2公里的埃特纳火山山坡，震源深度1公里。造成28名居民轻伤。'},\n",
       "  {'id': '10631_2',\n",
       "   'event-summarization': '凌晨1时9分，埃特纳火山山坡发生了3.4级地震，震中位于阿奇桑坦托尼奥市北部4公里。'}]}"
      ]
     },
     "execution_count": 6,
     "metadata": {},
     "output_type": "execute_result"
    }
   ],
   "source": [
    "submit_example[0]"
   ]
  },
  {
   "cell_type": "code",
   "execution_count": 9,
   "id": "28c5207f-a98a-423f-942e-9f9ec8a3dc68",
   "metadata": {},
   "outputs": [
    {
     "data": {
      "text/plain": [
       "{'id': '10631_1',\n",
       " 'content': '8级。据报道，当地时间26日凌晨3时19分，卡塔尼亚省发生4.8级地震，震中位于卡塔尼亚市北部的维亚格兰德市。官方通报，地震造成28名居民不同程度受轻伤，其中10人入院接受治疗。根据意大利国家地球物理与火山学研究中心监测资料，26日的地震震中位于维亚格兰德市北部2公里的埃特纳火山山坡，震源深度1公里。',\n",
       " 'spans': [{'start': 100, 'end': 103},\n",
       "  {'start': 126, 'end': 212},\n",
       "  {'start': 303, 'end': 365}]}"
      ]
     },
     "execution_count": 9,
     "metadata": {},
     "output_type": "execute_result"
    }
   ],
   "source": [
    "test[0][\"events\"][0]"
   ]
  },
  {
   "cell_type": "code",
   "execution_count": 163,
   "id": "467505d8-2d44-495b-8da7-5ffe455310d7",
   "metadata": {},
   "outputs": [],
   "source": [
    "submit_result=[]\n",
    "for unit in test:\n",
    "    temp_bag=[]\n",
    "    for u in unit[\"events\"]:\n",
    "        temp={\"id\": \"\",\"event-summarization\": \"\"}\n",
    "        temp[\"id\"]=u[\"id\"]\n",
    "        temp[\"event-summarization\"]=u[\"content\"]\n",
    "        temp_bag.append(temp)\n",
    "    submit_result.append({\"summarizations\":temp_bag})"
   ]
  },
  {
   "cell_type": "code",
   "execution_count": 13,
   "id": "dc472370-2cac-46df-8eb8-6e89546b96ac",
   "metadata": {},
   "outputs": [
    {
     "data": {
      "text/plain": [
       "{'summarizations': [{'id': '10631_1',\n",
       "   'event-summarization': '8级。据报道，当地时间26日凌晨3时19分，卡塔尼亚省发生4.8级地震，震中位于卡塔尼亚市北部的维亚格兰德市。官方通报，地震造成28名居民不同程度受轻伤，其中10人入院接受治疗。根据意大利国家地球物理与火山学研究中心监测资料，26日的地震震中位于维亚格兰德市北部2公里的埃特纳火山山坡，震源深度1公里。'},\n",
       "  {'id': '10631_2',\n",
       "   'event-summarization': '根据意大利国家地球物理与火山学研究中心监测资料，26日的地震震中位于维亚格兰德市北部2公里的埃特纳火山山坡，震源深度1公里。凌晨1时9分，该区域还发生了3.4级地震，震中位于阿奇桑坦托尼奥市北部4公里。'}]}"
      ]
     },
     "execution_count": 13,
     "metadata": {},
     "output_type": "execute_result"
    }
   ],
   "source": [
    "submit_result[0]"
   ]
  },
  {
   "cell_type": "code",
   "execution_count": 30,
   "id": "3a6c7e5b-08d6-4dbf-8dda-aa534b253cfb",
   "metadata": {},
   "outputs": [],
   "source": [
    "\n",
    "import os\n",
    "if not os.path.exists(\"../result/common\"):\n",
    "    os.mkdir(\"../result/common\")\n",
    "with open('../result/common/result.txt', 'w',encoding=\"utf8\") as file:\n",
    "    for unit in submit_result:\n",
    "        json_str = json.dumps(unit,ensure_ascii=False)\n",
    "        file.write(json_str+\"\\n\")"
   ]
  },
  {
   "cell_type": "code",
   "execution_count": 24,
   "id": "645670d6-2949-4a52-baf1-014eca6a54d9",
   "metadata": {},
   "outputs": [
    {
     "data": {
      "text/plain": [
       "'{\"summarizations\": [{\"id\": \"5264_1\", \"event-summarization\": \"1月18日，丽水人毛先生报警，自己经过330国道岭下镇路段时，被一个骑着摩托车的男子拦住了去路。王某交代，从去年夏天以来，他就在330国道沿途路段“碰瓷”骗钱，一般都找外地牌照的车辆下手，方法也很简单粗暴：拦住车辆的去路，要求对方赔钱，能敲诈到多少是多少，对方要求报警，他就殴打，直接把钱抢走。\"}, {\"id\": \"5264_2\", \"event-summarization\": \"1月18日，丽水人毛先生报警，自己经过330国道岭下镇路段时，被一个骑着摩托车的男子拦住了去路。男子硬说毛先生把他撞倒了，受伤了，要赔钱。毛先生要报警，没想到男子甩了他两巴掌。看男子恶狠狠，毛先生也有点害怕了，就这样被对方抢走了800元现金。王某交代，从去年夏天以来，他就在330国道沿途路段“碰瓷”骗钱，一般都找外地牌照的车辆下手，方法也很简单粗暴：拦住车辆的去路，要求对方赔钱，能敲诈到多少是多少，对方要求报警，他就殴打，直接把钱抢走。\"}, {\"id\": \"5264_3\", \"event-summarization\": \"1月21日，1月21日，男子在市区的出租房里被抓获。据查，男子姓王，是龙游人，30岁，胖胖的，身材挺魁梧。王某交代，从去年夏天以来，他就在330国道沿途路段“碰瓷”骗钱，一般都找外地牌照的车辆下手，方法也很简单粗暴：拦住车辆的去路，要求对方赔钱，能敲诈到多少是多少，对方要求报警，他就殴打，直接把钱抢走。民警说，还有一些受害者并没有报警，他们希望途经的车主有被敲诈或者抢劫的，请及时与派出所取得联系，联系电话：0579-82811110。\"}]}'"
      ]
     },
     "execution_count": 24,
     "metadata": {},
     "output_type": "execute_result"
    }
   ],
   "source": [
    "json_str"
   ]
  },
  {
   "cell_type": "code",
   "execution_count": 27,
   "id": "bde587df-7e74-4b94-a3c1-cdbdc3419000",
   "metadata": {},
   "outputs": [],
   "source": [
    "ss= open(\"submit_example.txt\",\"r\",encoding=\"utf8\").readlines()"
   ]
  },
  {
   "cell_type": "code",
   "execution_count": 28,
   "id": "7fd98c12-9531-4da1-9f76-4a94c7ebfdc3",
   "metadata": {},
   "outputs": [
    {
     "data": {
      "text/plain": [
       "'{\"summarizations\": [{\"id\": \"10631_1\", \"event-summarization\": \"当地时间26日凌晨3时19分，卡塔尼亚省发生4.8级地震，震中位于维亚格兰德市北部2公里的埃特纳火山山坡，震源深度1公里。造成28名居民轻伤。\"}, {\"id\": \"10631_2\", \"event-summarization\": \"凌晨1时9分，埃特纳火山山坡发生了3.4级地震，震中位于阿奇桑坦托尼奥市北部4公里。\"}]}\\n'"
      ]
     },
     "execution_count": 28,
     "metadata": {},
     "output_type": "execute_result"
    }
   ],
   "source": [
    "ss[0]"
   ]
  },
  {
   "cell_type": "code",
   "execution_count": 39,
   "id": "33714e5d-dacc-45a1-a257-4eeb394a7dd9",
   "metadata": {},
   "outputs": [
    {
     "data": {
      "text/plain": [
       "[{'id': '10290_1',\n",
       "  'content': '门生，2015年9月17日，成都市人民检察院依法决定对成都市政府原市长助理、秘书长门生（副厅级）受贿立案侦查。',\n",
       "  'spans': [{'start': 151, 'end': 154}, {'start': 375, 'end': 427}]},\n",
       " {'id': '10290_2',\n",
       "  'content': '5日，门生，2015年9月17日，成都市人民检察院依法决定对成都市政府原市长助理、秘书长门生（副厅级）受贿立案侦查。2015年9月25日，经四川省人民检察院决定，依法对门生予以逮捕。',\n",
       "  'spans': [{'start': 58, 'end': 61},\n",
       "   {'start': 151, 'end': 154},\n",
       "   {'start': 375, 'end': 460}]}]"
      ]
     },
     "execution_count": 39,
     "metadata": {},
     "output_type": "execute_result"
    }
   ],
   "source": [
    "### common pro 长度分析\n",
    "\n",
    "train[0]['events']"
   ]
  },
  {
   "cell_type": "code",
   "execution_count": 41,
   "id": "dd51af9e-6d69-460d-8a93-571aab692749",
   "metadata": {},
   "outputs": [
    {
     "data": {
      "text/plain": [
       "[{'id': '10290_1', 'event-summarization': '2015年9月17日，成都市人民检察院对门生受贿立案侦查'},\n",
       " {'id': '10290_2', 'event-summarization': '2015年9月25日，门生因受贿被四川省人民检察院决定逮捕'}]"
      ]
     },
     "execution_count": 41,
     "metadata": {},
     "output_type": "execute_result"
    }
   ],
   "source": [
    "train[0]['summarizations']"
   ]
  },
  {
   "cell_type": "code",
   "execution_count": 65,
   "id": "4de2bb63-3938-45e0-a747-78b1e1b231d8",
   "metadata": {},
   "outputs": [
    {
     "name": "stdout",
     "output_type": "stream",
     "text": [
      "{'rouge-1': {'r': 0.75, 'p': 0.5, 'f': 0.5999999952}, 'rouge-2': {'r': 0.6666666666666666, 'p': 0.4, 'f': 0.49999999531250006}, 'rouge-l': {'r': 0.75, 'p': 0.5, 'f': 0.5999999952}}\n"
     ]
    }
   ],
   "source": [
    "from rouge import Rouge\n",
    "import jieba\n",
    "\n",
    "# 将句子分词并进行处理\n",
    "def preprocess_text(reference,candidate):\n",
    "    # 分词并连接成字符串\n",
    "    reference = jieba.lcut(reference)\n",
    "    reference = ' '.join(reference)\n",
    "\n",
    "    candidate = jieba.lcut(candidate)\n",
    "    candidate = ' '.join(candidate)\n",
    "    return reference,candidate\n",
    "\n",
    "# 测试数据\n",
    "reference = \"这是一个测试句子\"\n",
    "candidate = \"这是另一个测试句子\"\n",
    "# 预处理测试数据\n",
    "processed_reference,processed_candidate = preprocess_text(reference,candidate)\n",
    "# 初始化ROUGE评价器\n",
    "rouge = Rouge()\n",
    "# 计算ROUGE指标\n",
    "scores = rouge.get_scores(processed_candidate, processed_reference, avg=True)\n",
    "\n",
    "# 输出结果\n",
    "print(scores)\n",
    "\n"
   ]
  },
  {
   "cell_type": "code",
   "execution_count": 45,
   "id": "59691523-56d9-471e-ac74-83d6d750efed",
   "metadata": {},
   "outputs": [],
   "source": [
    "content_summary=[]\n",
    "for unit in train:\n",
    "    for content,summary in zip(unit['events'],unit['summarizations']):\n",
    "        assert content[\"id\"]==summary[\"id\"]\n",
    "        content_summary.append([content[\"content\"],summary[\"event-summarization\"]])"
   ]
  },
  {
   "cell_type": "code",
   "execution_count": 48,
   "id": "b258b36b-f345-4a06-9e2c-76aedf6bf534",
   "metadata": {},
   "outputs": [
    {
     "data": {
      "text/plain": [
       "['近日，上海青浦警方抓获一个以招嫖为名行盗窃抢劫之实的犯罪团伙。5月9日，澎湃新闻（www.thepaper.cn）记者从青浦公安分局获悉，2017年3月中旬，青浦公安分局徐泾派出所接报警人报警，称其在青浦区徐泾镇二联村一出租房内遭人抢劫。经了解，案发当日被害人骑电动自行车途经徐泾镇龙联路时，遇见一陌生女子在路边招嫖，2人谈好以50元的价格发生不正当性关系。该女子将被害人带至二联村一出租屋内“交易”。当被害人将衣物脱下躺在床上时，突然发现有2名陌生男子正蹑手蹑脚往屋外走，他立即翻看自己钱包，发现里面2000元现金不翼而飞。当被害人欲上前夺回钱财时，遭到2名男子的殴打。根据这一情况，徐泾派出所立即会同分局刑侦支队，组成专案组开展侦查。经进一步侦查发现，该犯罪团伙成员多以“夫妻档”为主，在出租屋周边的马路边，以女子佯装招嫖为诱饵，谈妥后女子以借故离开的方式实施盗窃、抢劫。目前，吴某、蒋某等4名犯罪嫌疑人因涉嫌抢劫、盗窃罪被青浦警方依法刑事拘留。',\n",
       " '2017年3月中旬，在青浦区徐泾镇二联村一出租房被害人被蒋某、吴某盗窃2000元。']"
      ]
     },
     "execution_count": 48,
     "metadata": {},
     "output_type": "execute_result"
    }
   ],
   "source": [
    "content_summary[2]"
   ]
  },
  {
   "cell_type": "code",
   "execution_count": 73,
   "id": "c14f231f-1d3e-4b27-b0da-658462f2f986",
   "metadata": {},
   "outputs": [
    {
     "name": "stderr",
     "output_type": "stream",
     "text": [
      "100%|███████████████████████████████████████████████████████████████████████████| 22374/22374 [00:28<00:00, 784.90it/s]\n"
     ]
    }
   ],
   "source": [
    "from tqdm import tqdm\n",
    "rouge = Rouge()\n",
    "final_score_length=[]\n",
    "for text in tqdm(content_summary):\n",
    "    try:\n",
    "        reference,candidate=text[0],text[1]\n",
    "        processed_reference,processed_candidate = preprocess_text(reference,candidate)\n",
    "        # 初始化ROUGE评价器\n",
    "        \n",
    "        # 计算ROUGE指标\n",
    "        scores = rouge.get_scores(processed_candidate, processed_reference, avg=True)\n",
    "        # print(scores)\n",
    "        final_score_length.append([len(reference),scores['rouge-l']['f']])\n",
    "    except:\n",
    "        pass"
   ]
  },
  {
   "cell_type": "code",
   "execution_count": 72,
   "id": "2ac90027-d58f-43bb-863a-db8b22badc99",
   "metadata": {},
   "outputs": [
    {
     "data": {
      "text/plain": [
       "0.5444552728341255"
      ]
     },
     "execution_count": 72,
     "metadata": {},
     "output_type": "execute_result"
    }
   ],
   "source": [
    "sum(final_score)/len(final_score)"
   ]
  },
  {
   "cell_type": "code",
   "execution_count": 75,
   "id": "67311aeb-33ab-4178-8290-238f61f8a93c",
   "metadata": {},
   "outputs": [],
   "source": [
    "import pandas as pd\n",
    "final_score_length=pd.DataFrame(final_score_length)\n"
   ]
  },
  {
   "cell_type": "code",
   "execution_count": 133,
   "id": "6e7b4077-ee09-4edf-936d-048ba6f49f55",
   "metadata": {},
   "outputs": [],
   "source": [
    "# 定义分组边界\n",
    "import numpy as np\n",
    "bins = np.arange(0,700,5)\n",
    "# group_names = ['Young', 'Middle Aged', 'Older', 'Elderly']\n",
    " \n",
    "# 使用cut函数将Age列的值分组，并创建一个新的分组列\n",
    "final_score_length[2] = pd.cut(final_score_length[0], bins)"
   ]
  },
  {
   "cell_type": "code",
   "execution_count": 134,
   "id": "19c7d53f-a297-4791-bb3a-a3f27d9e67fc",
   "metadata": {},
   "outputs": [
    {
     "data": {
      "text/html": [
       "<div>\n",
       "<style scoped>\n",
       "    .dataframe tbody tr th:only-of-type {\n",
       "        vertical-align: middle;\n",
       "    }\n",
       "\n",
       "    .dataframe tbody tr th {\n",
       "        vertical-align: top;\n",
       "    }\n",
       "\n",
       "    .dataframe thead th {\n",
       "        text-align: right;\n",
       "    }\n",
       "</style>\n",
       "<table border=\"1\" class=\"dataframe\">\n",
       "  <thead>\n",
       "    <tr style=\"text-align: right;\">\n",
       "      <th></th>\n",
       "      <th>0</th>\n",
       "      <th>1</th>\n",
       "      <th>2</th>\n",
       "    </tr>\n",
       "  </thead>\n",
       "  <tbody>\n",
       "    <tr>\n",
       "      <th>0</th>\n",
       "      <td>55</td>\n",
       "      <td>0.684211</td>\n",
       "      <td>(50, 55]</td>\n",
       "    </tr>\n",
       "    <tr>\n",
       "      <th>1</th>\n",
       "      <td>91</td>\n",
       "      <td>0.521739</td>\n",
       "      <td>(90, 95]</td>\n",
       "    </tr>\n",
       "    <tr>\n",
       "      <th>2</th>\n",
       "      <td>425</td>\n",
       "      <td>0.201117</td>\n",
       "      <td>(420, 425]</td>\n",
       "    </tr>\n",
       "    <tr>\n",
       "      <th>3</th>\n",
       "      <td>89</td>\n",
       "      <td>0.676923</td>\n",
       "      <td>(85, 90]</td>\n",
       "    </tr>\n",
       "    <tr>\n",
       "      <th>4</th>\n",
       "      <td>42</td>\n",
       "      <td>0.769231</td>\n",
       "      <td>(40, 45]</td>\n",
       "    </tr>\n",
       "    <tr>\n",
       "      <th>...</th>\n",
       "      <td>...</td>\n",
       "      <td>...</td>\n",
       "      <td>...</td>\n",
       "    </tr>\n",
       "    <tr>\n",
       "      <th>22364</th>\n",
       "      <td>91</td>\n",
       "      <td>0.448276</td>\n",
       "      <td>(90, 95]</td>\n",
       "    </tr>\n",
       "    <tr>\n",
       "      <th>22365</th>\n",
       "      <td>127</td>\n",
       "      <td>0.473684</td>\n",
       "      <td>(125, 130]</td>\n",
       "    </tr>\n",
       "    <tr>\n",
       "      <th>22366</th>\n",
       "      <td>154</td>\n",
       "      <td>0.298851</td>\n",
       "      <td>(150, 155]</td>\n",
       "    </tr>\n",
       "    <tr>\n",
       "      <th>22367</th>\n",
       "      <td>154</td>\n",
       "      <td>0.373626</td>\n",
       "      <td>(150, 155]</td>\n",
       "    </tr>\n",
       "    <tr>\n",
       "      <th>22368</th>\n",
       "      <td>186</td>\n",
       "      <td>0.222222</td>\n",
       "      <td>(185, 190]</td>\n",
       "    </tr>\n",
       "  </tbody>\n",
       "</table>\n",
       "<p>22369 rows × 3 columns</p>\n",
       "</div>"
      ],
      "text/plain": [
       "         0         1           2\n",
       "0       55  0.684211    (50, 55]\n",
       "1       91  0.521739    (90, 95]\n",
       "2      425  0.201117  (420, 425]\n",
       "3       89  0.676923    (85, 90]\n",
       "4       42  0.769231    (40, 45]\n",
       "...    ...       ...         ...\n",
       "22364   91  0.448276    (90, 95]\n",
       "22365  127  0.473684  (125, 130]\n",
       "22366  154  0.298851  (150, 155]\n",
       "22367  154  0.373626  (150, 155]\n",
       "22368  186  0.222222  (185, 190]\n",
       "\n",
       "[22369 rows x 3 columns]"
      ]
     },
     "execution_count": 134,
     "metadata": {},
     "output_type": "execute_result"
    }
   ],
   "source": [
    "final_score_length"
   ]
  },
  {
   "cell_type": "code",
   "execution_count": 135,
   "id": "4b3a0631-16b9-418a-a5ae-ffe10e9a8267",
   "metadata": {},
   "outputs": [],
   "source": [
    "score_distribute=final_score_length.groupby(2)[1].mean()"
   ]
  },
  {
   "cell_type": "code",
   "execution_count": 136,
   "id": "ae61173c-7cd4-4990-9580-af863c2e244a",
   "metadata": {},
   "outputs": [],
   "source": [
    "score_distribute_count=final_score_length.groupby(2)[1].count()"
   ]
  },
  {
   "cell_type": "code",
   "execution_count": 164,
   "id": "20a24c43-5278-463b-ac81-345420359be5",
   "metadata": {},
   "outputs": [
    {
     "data": {
      "text/plain": [
       "2\n",
       "(0, 5]        2\n",
       "(5, 10]       1\n",
       "(10, 15]     17\n",
       "(15, 20]    123\n",
       "(20, 25]    230\n",
       "(25, 30]    382\n",
       "(30, 35]    573\n",
       "(35, 40]    729\n",
       "(40, 45]    828\n",
       "(45, 50]    999\n",
       "Name: 1, dtype: int64"
      ]
     },
     "execution_count": 164,
     "metadata": {},
     "output_type": "execute_result"
    }
   ],
   "source": [
    "score_distribute_count[:10]"
   ]
  },
  {
   "cell_type": "code",
   "execution_count": 140,
   "id": "0bbcbad2-772f-45cd-9de2-6b7f0e737820",
   "metadata": {},
   "outputs": [
    {
     "data": {
      "text/plain": [
       "2\n",
       "(0, 5]      0.258145\n",
       "(5, 10]     0.160000\n",
       "(10, 15]    0.721092\n",
       "(15, 20]    0.763220\n",
       "(20, 25]    0.764441\n",
       "(25, 30]    0.761552\n",
       "(30, 35]    0.768654\n",
       "(35, 40]    0.756072\n",
       "(40, 45]    0.729469\n",
       "(45, 50]    0.699621\n",
       "(50, 55]    0.678043\n",
       "(55, 60]    0.646447\n",
       "(60, 65]    0.615581\n",
       "(65, 70]    0.606468\n",
       "(70, 75]    0.590756\n",
       "Name: 1, dtype: float64"
      ]
     },
     "execution_count": 140,
     "metadata": {},
     "output_type": "execute_result"
    }
   ],
   "source": [
    "score_distribute[:15]"
   ]
  },
  {
   "cell_type": "code",
   "execution_count": 144,
   "id": "12486306-6446-444c-b71d-f0fefd910905",
   "metadata": {},
   "outputs": [
    {
     "data": {
      "text/plain": [
       "{'summarizations': [{'id': '10631_1',\n",
       "   'event-summarization': '8级。据报道，当地时间26日凌晨3时19分，卡塔尼亚省发生4.8级地震，震中位于卡塔尼亚市北部的维亚格兰德市。官方通报，地震造成28名居民不同程度受轻伤，其中10人入院接受治疗。根据意大利国家地球物理与火山学研究中心监测资料，26日的地震震中位于维亚格兰德市北部2公里的埃特纳火山山坡，震源深度1公里。'},\n",
       "  {'id': '10631_2',\n",
       "   'event-summarization': '根据意大利国家地球物理与火山学研究中心监测资料，26日的地震震中位于维亚格兰德市北部2公里的埃特纳火山山坡，震源深度1公里。凌晨1时9分，该区域还发生了3.4级地震，震中位于阿奇桑坦托尼奥市北部4公里。'}]}"
      ]
     },
     "execution_count": 144,
     "metadata": {},
     "output_type": "execute_result"
    }
   ],
   "source": [
    "submit_result[0]"
   ]
  },
  {
   "cell_type": "code",
   "execution_count": 165,
   "id": "3aa7fdc9-525f-4fc4-8be3-9121ed32975d",
   "metadata": {},
   "outputs": [],
   "source": [
    "sums=0\n",
    "all_sums=0\n",
    "for unit in submit_result:\n",
    "    for event in unit['summarizations']:\n",
    "        if len(event['event-summarization'])<40:\n",
    "            sums+=1\n",
    "        else:\n",
    "            event['event-summarization']='test'\n",
    "        all_sums+=1"
   ]
  },
  {
   "cell_type": "code",
   "execution_count": 166,
   "id": "8928f1fe-5dd5-4389-8926-1c4218c89b44",
   "metadata": {},
   "outputs": [
    {
     "data": {
      "text/plain": [
       "{'summarizations': [{'id': '13815_1', 'event-summarization': 'test'},\n",
       "  {'id': '13815_2', 'event-summarization': 'test'},\n",
       "  {'id': '13815_3', 'event-summarization': 'test'},\n",
       "  {'id': '13815_4', 'event-summarization': 'test'}]}"
      ]
     },
     "execution_count": 166,
     "metadata": {},
     "output_type": "execute_result"
    }
   ],
   "source": [
    "submit_result[1]"
   ]
  },
  {
   "cell_type": "code",
   "execution_count": 167,
   "id": "e1cc23bb-dccf-4cb8-bd22-c2496daf36af",
   "metadata": {},
   "outputs": [
    {
     "data": {
      "text/plain": [
       "(243, 2714)"
      ]
     },
     "execution_count": 167,
     "metadata": {},
     "output_type": "execute_result"
    }
   ],
   "source": [
    "sums,all_sums"
   ]
  },
  {
   "cell_type": "code",
   "execution_count": 168,
   "id": "ddef3959-11fa-46bb-ad88-a77f11063cd7",
   "metadata": {},
   "outputs": [],
   "source": [
    "# 小于50的用原文\n",
    "import os\n",
    "if not os.path.exists(\"../result/common_less_40\"):\n",
    "    os.mkdir(\"../result/common_less_40\")\n",
    "with open('../result/common_less_40/result.txt', 'w',encoding=\"utf8\") as file:\n",
    "    for unit in submit_result:\n",
    "        json_str = json.dumps(unit,ensure_ascii=False)\n",
    "        file.write(json_str+\"\\n\")"
   ]
  },
  {
   "cell_type": "code",
   "execution_count": null,
   "id": "9a42a78d-9ba6-4af6-81de-f126e3f3137a",
   "metadata": {},
   "outputs": [],
   "source": []
  }
 ],
 "metadata": {
  "kernelspec": {
   "display_name": "Python 3 (ipykernel)",
   "language": "python",
   "name": "python3"
  },
  "language_info": {
   "codemirror_mode": {
    "name": "ipython",
    "version": 3
   },
   "file_extension": ".py",
   "mimetype": "text/x-python",
   "name": "python",
   "nbconvert_exporter": "python",
   "pygments_lexer": "ipython3",
   "version": "3.8.4"
  }
 },
 "nbformat": 4,
 "nbformat_minor": 5
}
